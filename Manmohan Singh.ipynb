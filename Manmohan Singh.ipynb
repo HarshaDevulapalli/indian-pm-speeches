{
 "cells": [
  {
   "cell_type": "markdown",
   "metadata": {},
   "source": [
    "# Analyzing All of Manmohan Singh's Speeches \n",
    "\n",
    "###### Now that we have all the files scraped, the idea is to look at them to see if we can get something interesting out of this."
   ]
  },
  {
   "cell_type": "code",
   "execution_count": 1,
   "metadata": {
    "collapsed": true
   },
   "outputs": [],
   "source": [
    "#Putting all the import packages over here.\n",
    "import pandas as pd\n",
    "import re\n",
    "pd.options.display.max_columns = 30  #Can't have too many columns.\n",
    "import glob\n",
    "from datetime import datetime\n",
    "import dateutil.parser\n",
    "import nltk\n",
    "import numpy as np\n",
    "import matplotlib.pyplot as plt\n",
    "%matplotlib inline\n",
    "plt.rcParams['figure.figsize']= (17,5)\n",
    "from collections import Counter\n",
    "import re\n",
    "import string\n",
    "from sklearn.feature_extraction.text import CountVectorizer\n",
    "from sklearn.feature_extraction.text import TfidfVectorizer\n",
    "import re\n",
    "from nltk.stem.porter import PorterStemmer\n",
    "from sklearn.cluster import KMeans\n",
    "import langid\n",
    "from tqdm import tqdm"
   ]
  },
  {
   "cell_type": "code",
   "execution_count": 2,
   "metadata": {},
   "outputs": [
    {
     "data": {
      "text/plain": [
       "1349"
      ]
     },
     "execution_count": 2,
     "metadata": {},
     "output_type": "execute_result"
    }
   ],
   "source": [
    "#Going into the folder and checking if all the speeches are loaded\n",
    "folder = nltk.data.find(\n",
    "    '/home/harsha/Desktop/Projects/indian-pm-speeches/manmohansingh/')\n",
    "paths = glob.glob('Projects/indian-pm-speeches/manmohansingh/*')\n",
    "len(paths)  #To see if all the files have loaded."
   ]
  },
  {
   "cell_type": "code",
   "execution_count": 3,
   "metadata": {},
   "outputs": [
    {
     "data": {
      "text/html": [
       "<div>\n",
       "<style>\n",
       "    .dataframe thead tr:only-child th {\n",
       "        text-align: right;\n",
       "    }\n",
       "\n",
       "    .dataframe thead th {\n",
       "        text-align: left;\n",
       "    }\n",
       "\n",
       "    .dataframe tbody tr th {\n",
       "        vertical-align: top;\n",
       "    }\n",
       "</style>\n",
       "<table border=\"1\" class=\"dataframe\">\n",
       "  <thead>\n",
       "    <tr style=\"text-align: right;\">\n",
       "      <th></th>\n",
       "      <th>average_sentence_length</th>\n",
       "      <th>city</th>\n",
       "      <th>content</th>\n",
       "      <th>date</th>\n",
       "      <th>filename</th>\n",
       "      <th>number_of_sentences</th>\n",
       "      <th>number_of_words</th>\n",
       "    </tr>\n",
       "  </thead>\n",
       "  <tbody>\n",
       "    <tr>\n",
       "      <th>0</th>\n",
       "      <td>25.345455</td>\n",
       "      <td>Haridwar</td>\n",
       "      <td>I am extremely happy to be here today to lay t...</td>\n",
       "      <td>2006-10-19</td>\n",
       "      <td>418_October_19_2006_Haridwar.txt</td>\n",
       "      <td>55</td>\n",
       "      <td>1394</td>\n",
       "    </tr>\n",
       "    <tr>\n",
       "      <th>1</th>\n",
       "      <td>25.572650</td>\n",
       "      <td>Ahmedabad</td>\n",
       "      <td>\"It gives me great pleasure to be here to inau...</td>\n",
       "      <td>2005-01-03</td>\n",
       "      <td>58_January_3_2005_Ahmedabad.txt</td>\n",
       "      <td>117</td>\n",
       "      <td>2992</td>\n",
       "    </tr>\n",
       "    <tr>\n",
       "      <th>2</th>\n",
       "      <td>25.326923</td>\n",
       "      <td>New Delhi</td>\n",
       "      <td>It is my pleasure to welcome you all on the oc...</td>\n",
       "      <td>2008-06-30</td>\n",
       "      <td>667_June_30_2008_New_Delhi.txt</td>\n",
       "      <td>52</td>\n",
       "      <td>1317</td>\n",
       "    </tr>\n",
       "    <tr>\n",
       "      <th>3</th>\n",
       "      <td>28.532787</td>\n",
       "      <td>New Delhi</td>\n",
       "      <td>\"There is someone who said, 'truth is learning...</td>\n",
       "      <td>2005-09-01</td>\n",
       "      <td>176_September_1_2005_New_Delhi.txt</td>\n",
       "      <td>122</td>\n",
       "      <td>3481</td>\n",
       "    </tr>\n",
       "    <tr>\n",
       "      <th>4</th>\n",
       "      <td>27.500000</td>\n",
       "      <td>New York</td>\n",
       "      <td>President Musharraf and Prime Minister Dr. Ma...</td>\n",
       "      <td>2004-09-24</td>\n",
       "      <td>21_September_24_2004_New_York.txt</td>\n",
       "      <td>8</td>\n",
       "      <td>220</td>\n",
       "    </tr>\n",
       "  </tbody>\n",
       "</table>\n",
       "</div>"
      ],
      "text/plain": [
       "   average_sentence_length       city  \\\n",
       "0                25.345455   Haridwar   \n",
       "1                25.572650  Ahmedabad   \n",
       "2                25.326923  New Delhi   \n",
       "3                28.532787  New Delhi   \n",
       "4                27.500000   New York   \n",
       "\n",
       "                                             content       date  \\\n",
       "0  I am extremely happy to be here today to lay t... 2006-10-19   \n",
       "1  \"It gives me great pleasure to be here to inau... 2005-01-03   \n",
       "2  It is my pleasure to welcome you all on the oc... 2008-06-30   \n",
       "3  \"There is someone who said, 'truth is learning... 2005-09-01   \n",
       "4   President Musharraf and Prime Minister Dr. Ma... 2004-09-24   \n",
       "\n",
       "                             filename  number_of_sentences  number_of_words  \n",
       "0    418_October_19_2006_Haridwar.txt                   55             1394  \n",
       "1     58_January_3_2005_Ahmedabad.txt                  117             2992  \n",
       "2      667_June_30_2008_New_Delhi.txt                   52             1317  \n",
       "3  176_September_1_2005_New_Delhi.txt                  122             3481  \n",
       "4   21_September_24_2004_New_York.txt                    8              220  "
      ]
     },
     "execution_count": 3,
     "metadata": {},
     "output_type": "execute_result"
    }
   ],
   "source": [
    "mms_speeches = [\n",
    "]  #We make an empty dataframe to store all the content of speeches in a list.\n",
    "for path in paths:\n",
    "    corpusReader = nltk.corpus.PlaintextCorpusReader(\n",
    "        folder,\n",
    "        path.split('/')[-1])  #Using NLTK to identify number of sentences.\n",
    "    number_of_sentences = len(corpusReader.sents())\n",
    "    number_of_words = len(\n",
    "        [word for sentence in corpusReader.sents() for word in sentence])\n",
    "    with open(\n",
    "            path, encoding=\"utf-8\"\n",
    "    ) as speech_file:  #Converting all the content into a dictionary.\n",
    "        filename = path.split('/')[-1]\n",
    "        date = re.search(\n",
    "            '([A-Z])\\w+_([0-9])+',\n",
    "            filename)  #Extracting the date of the speech from the filename\n",
    "        city = re.search(r'(\\d+)_([A-Z]\\w+_\\d+_\\d\\d\\d\\d)(_*?)([A-Z]\\w+.+).txt',\n",
    "                         filename)  #Extracting the location of the speech.\n",
    "        if date:\n",
    "            date = datetime.strptime(date.group(0), '%B_%d_%Y')\n",
    "        else:\n",
    "            date = np.nan\n",
    "        if city:\n",
    "            city = city.group(4).replace('_', ' ')\n",
    "        else:\n",
    "            city = np.nan\n",
    "        speech = {\n",
    "            'filename': path.split('/')[-1],\n",
    "            'content': speech_file.read(),\n",
    "            'date': date,\n",
    "            'city': city,\n",
    "            'number_of_sentences': number_of_sentences,\n",
    "            'number_of_words': number_of_words,\n",
    "            'average_sentence_length': number_of_words / number_of_sentences\n",
    "        }\n",
    "    mms_speeches.append(speech)\n",
    "mms_df = pd.DataFrame(\n",
    "    mms_speeches)  # We convert the list to a dataframe. Easy!\n",
    "mms_df.head()  #Checking if it worked. YES!"
   ]
  },
  {
   "cell_type": "code",
   "execution_count": 4,
   "metadata": {},
   "outputs": [
    {
     "data": {
      "text/html": [
       "<div>\n",
       "<style>\n",
       "    .dataframe thead tr:only-child th {\n",
       "        text-align: right;\n",
       "    }\n",
       "\n",
       "    .dataframe thead th {\n",
       "        text-align: left;\n",
       "    }\n",
       "\n",
       "    .dataframe tbody tr th {\n",
       "        vertical-align: top;\n",
       "    }\n",
       "</style>\n",
       "<table border=\"1\" class=\"dataframe\">\n",
       "  <thead>\n",
       "    <tr style=\"text-align: right;\">\n",
       "      <th></th>\n",
       "      <th>average_sentence_length</th>\n",
       "      <th>city</th>\n",
       "      <th>content</th>\n",
       "      <th>date</th>\n",
       "      <th>filename</th>\n",
       "      <th>number_of_sentences</th>\n",
       "      <th>number_of_words</th>\n",
       "    </tr>\n",
       "    <tr>\n",
       "      <th>date</th>\n",
       "      <th></th>\n",
       "      <th></th>\n",
       "      <th></th>\n",
       "      <th></th>\n",
       "      <th></th>\n",
       "      <th></th>\n",
       "      <th></th>\n",
       "    </tr>\n",
       "  </thead>\n",
       "  <tbody>\n",
       "    <tr>\n",
       "      <th>2006-10-19</th>\n",
       "      <td>25.345455</td>\n",
       "      <td>Haridwar</td>\n",
       "      <td>I am extremely happy to be here today to lay t...</td>\n",
       "      <td>2006-10-19</td>\n",
       "      <td>418_October_19_2006_Haridwar.txt</td>\n",
       "      <td>55</td>\n",
       "      <td>1394</td>\n",
       "    </tr>\n",
       "    <tr>\n",
       "      <th>2005-01-03</th>\n",
       "      <td>25.572650</td>\n",
       "      <td>Ahmedabad</td>\n",
       "      <td>\"It gives me great pleasure to be here to inau...</td>\n",
       "      <td>2005-01-03</td>\n",
       "      <td>58_January_3_2005_Ahmedabad.txt</td>\n",
       "      <td>117</td>\n",
       "      <td>2992</td>\n",
       "    </tr>\n",
       "    <tr>\n",
       "      <th>2008-06-30</th>\n",
       "      <td>25.326923</td>\n",
       "      <td>New Delhi</td>\n",
       "      <td>It is my pleasure to welcome you all on the oc...</td>\n",
       "      <td>2008-06-30</td>\n",
       "      <td>667_June_30_2008_New_Delhi.txt</td>\n",
       "      <td>52</td>\n",
       "      <td>1317</td>\n",
       "    </tr>\n",
       "    <tr>\n",
       "      <th>2005-09-01</th>\n",
       "      <td>28.532787</td>\n",
       "      <td>New Delhi</td>\n",
       "      <td>\"There is someone who said, 'truth is learning...</td>\n",
       "      <td>2005-09-01</td>\n",
       "      <td>176_September_1_2005_New_Delhi.txt</td>\n",
       "      <td>122</td>\n",
       "      <td>3481</td>\n",
       "    </tr>\n",
       "    <tr>\n",
       "      <th>2004-09-24</th>\n",
       "      <td>27.500000</td>\n",
       "      <td>New York</td>\n",
       "      <td>President Musharraf and Prime Minister Dr. Ma...</td>\n",
       "      <td>2004-09-24</td>\n",
       "      <td>21_September_24_2004_New_York.txt</td>\n",
       "      <td>8</td>\n",
       "      <td>220</td>\n",
       "    </tr>\n",
       "  </tbody>\n",
       "</table>\n",
       "</div>"
      ],
      "text/plain": [
       "            average_sentence_length       city  \\\n",
       "date                                             \n",
       "2006-10-19                25.345455   Haridwar   \n",
       "2005-01-03                25.572650  Ahmedabad   \n",
       "2008-06-30                25.326923  New Delhi   \n",
       "2005-09-01                28.532787  New Delhi   \n",
       "2004-09-24                27.500000   New York   \n",
       "\n",
       "                                                      content       date  \\\n",
       "date                                                                       \n",
       "2006-10-19  I am extremely happy to be here today to lay t... 2006-10-19   \n",
       "2005-01-03  \"It gives me great pleasure to be here to inau... 2005-01-03   \n",
       "2008-06-30  It is my pleasure to welcome you all on the oc... 2008-06-30   \n",
       "2005-09-01  \"There is someone who said, 'truth is learning... 2005-09-01   \n",
       "2004-09-24   President Musharraf and Prime Minister Dr. Ma... 2004-09-24   \n",
       "\n",
       "                                      filename  number_of_sentences  \\\n",
       "date                                                                  \n",
       "2006-10-19    418_October_19_2006_Haridwar.txt                   55   \n",
       "2005-01-03     58_January_3_2005_Ahmedabad.txt                  117   \n",
       "2008-06-30      667_June_30_2008_New_Delhi.txt                   52   \n",
       "2005-09-01  176_September_1_2005_New_Delhi.txt                  122   \n",
       "2004-09-24   21_September_24_2004_New_York.txt                    8   \n",
       "\n",
       "            number_of_words  \n",
       "date                         \n",
       "2006-10-19             1394  \n",
       "2005-01-03             2992  \n",
       "2008-06-30             1317  \n",
       "2005-09-01             3481  \n",
       "2004-09-24              220  "
      ]
     },
     "execution_count": 4,
     "metadata": {},
     "output_type": "execute_result"
    }
   ],
   "source": [
    "mms_df.index = mms_df['date']  #Setting a dateindex\n",
    "mms_df.head()"
   ]
  },
  {
   "cell_type": "markdown",
   "metadata": {},
   "source": [
    "Let's see some basic descriptive numbers. "
   ]
  },
  {
   "cell_type": "code",
   "execution_count": 5,
   "metadata": {},
   "outputs": [
    {
     "data": {
      "text/html": [
       "<div>\n",
       "<style>\n",
       "    .dataframe thead tr:only-child th {\n",
       "        text-align: right;\n",
       "    }\n",
       "\n",
       "    .dataframe thead th {\n",
       "        text-align: left;\n",
       "    }\n",
       "\n",
       "    .dataframe tbody tr th {\n",
       "        vertical-align: top;\n",
       "    }\n",
       "</style>\n",
       "<table border=\"1\" class=\"dataframe\">\n",
       "  <thead>\n",
       "    <tr style=\"text-align: right;\">\n",
       "      <th></th>\n",
       "      <th>average_sentence_length</th>\n",
       "      <th>number_of_sentences</th>\n",
       "      <th>number_of_words</th>\n",
       "    </tr>\n",
       "  </thead>\n",
       "  <tbody>\n",
       "    <tr>\n",
       "      <th>count</th>\n",
       "      <td>1349.000000</td>\n",
       "      <td>1349.000000</td>\n",
       "      <td>1349.000000</td>\n",
       "    </tr>\n",
       "    <tr>\n",
       "      <th>mean</th>\n",
       "      <td>51.982104</td>\n",
       "      <td>56.422535</td>\n",
       "      <td>1323.142328</td>\n",
       "    </tr>\n",
       "    <tr>\n",
       "      <th>std</th>\n",
       "      <td>272.736594</td>\n",
       "      <td>39.961286</td>\n",
       "      <td>899.070231</td>\n",
       "    </tr>\n",
       "    <tr>\n",
       "      <th>min</th>\n",
       "      <td>12.025000</td>\n",
       "      <td>1.000000</td>\n",
       "      <td>47.000000</td>\n",
       "    </tr>\n",
       "    <tr>\n",
       "      <th>25%</th>\n",
       "      <td>21.000000</td>\n",
       "      <td>30.000000</td>\n",
       "      <td>694.000000</td>\n",
       "    </tr>\n",
       "    <tr>\n",
       "      <th>50%</th>\n",
       "      <td>22.960000</td>\n",
       "      <td>49.000000</td>\n",
       "      <td>1144.000000</td>\n",
       "    </tr>\n",
       "    <tr>\n",
       "      <th>75%</th>\n",
       "      <td>25.111111</td>\n",
       "      <td>74.000000</td>\n",
       "      <td>1709.000000</td>\n",
       "    </tr>\n",
       "    <tr>\n",
       "      <th>max</th>\n",
       "      <td>4015.000000</td>\n",
       "      <td>317.000000</td>\n",
       "      <td>8341.000000</td>\n",
       "    </tr>\n",
       "  </tbody>\n",
       "</table>\n",
       "</div>"
      ],
      "text/plain": [
       "       average_sentence_length  number_of_sentences  number_of_words\n",
       "count              1349.000000          1349.000000      1349.000000\n",
       "mean                 51.982104            56.422535      1323.142328\n",
       "std                 272.736594            39.961286       899.070231\n",
       "min                  12.025000             1.000000        47.000000\n",
       "25%                  21.000000            30.000000       694.000000\n",
       "50%                  22.960000            49.000000      1144.000000\n",
       "75%                  25.111111            74.000000      1709.000000\n",
       "max                4015.000000           317.000000      8341.000000"
      ]
     },
     "execution_count": 5,
     "metadata": {},
     "output_type": "execute_result"
    }
   ],
   "source": [
    "mms_df.describe()"
   ]
  },
  {
   "cell_type": "markdown",
   "metadata": {},
   "source": [
    "That's some disparity between the mean and the median."
   ]
  },
  {
   "cell_type": "code",
   "execution_count": 6,
   "metadata": {},
   "outputs": [
    {
     "data": {
      "text/plain": [
       "<matplotlib.axes._subplots.AxesSubplot at 0x7f2833550630>"
      ]
     },
     "execution_count": 6,
     "metadata": {},
     "output_type": "execute_result"
    },
    {
     "data": {
      "image/png": "[encoded data removed]",
      "text/plain": [
       "<matplotlib.figure.Figure at 0x7f28335cb208>"
      ]
     },
     "metadata": {},
     "output_type": "display_data"
    }
   ],
   "source": [
    "#Let's look at the number of speeches he's given each year from 2004 to 2014\n",
    "plt.style.use('ggplot')\n",
    "mms_df.groupby(by=mms_df.index.year)['filename'].count().plot()"
   ]
  },
  {
   "cell_type": "markdown",
   "metadata": {},
   "source": [
    "He gave the maximum number of speeches in 2006 and the least in 2014, obviously. "
   ]
  },
  {
   "cell_type": "code",
   "execution_count": 7,
   "metadata": {},
   "outputs": [
    {
     "data": {
      "image/png": "[encoded data removed]",
      "text/plain": [
       "<matplotlib.figure.Figure at 0x7f283345b9e8>"
      ]
     },
     "metadata": {},
     "output_type": "display_data"
    }
   ],
   "source": [
    "ax1 = mms_df['average_sentence_length'].groupby(\n",
    "    by=mms_df.index.year).resample('A').sum().plot(\n",
    "        figsize=(15, 5), kind='bar')"
   ]
  },
  {
   "cell_type": "markdown",
   "metadata": {},
   "source": [
    "What's with that huge spike above?"
   ]
  },
  {
   "cell_type": "code",
   "execution_count": 8,
   "metadata": {},
   "outputs": [
    {
     "data": {
      "image/png": "[encoded data removed]",
      "text/plain": [
       "<matplotlib.figure.Figure at 0x7f283346bf60>"
      ]
     },
     "metadata": {},
     "output_type": "display_data"
    }
   ],
   "source": [
    "#The average number of sentences went download gradually. \n",
    "ax1 = mms_df['number_of_sentences'].groupby(\n",
    "    by=mms_df.index.year).resample('A').mean().plot(figsize=(15, 5))"
   ]
  },
  {
   "cell_type": "code",
   "execution_count": 9,
   "metadata": {},
   "outputs": [
    {
     "data": {
      "text/plain": [
       "<matplotlib.axes._subplots.AxesSubplot at 0x7f28333671d0>"
      ]
     },
     "execution_count": 9,
     "metadata": {},
     "output_type": "execute_result"
    },
    {
     "data": {
      "image/png": "[encoded data removed]",
      "text/plain": [
       "<matplotlib.figure.Figure at 0x7f2833423cf8>"
      ]
     },
     "metadata": {},
     "output_type": "display_data"
    }
   ],
   "source": [
    "mms_df['number_of_words'].groupby(\n",
    "    by=mms_df.index.year).resample('A').sum().plot(figsize=(10, 8))"
   ]
  },
  {
   "cell_type": "markdown",
   "metadata": {},
   "source": [
    "# Word Occurances in his speeches"
   ]
  },
  {
   "cell_type": "code",
   "execution_count": 10,
   "metadata": {
    "collapsed": true
   },
   "outputs": [],
   "source": [
    "#Words whose occurances we would want to track\n",
    "list_of_words = [\n",
    "    \"india\", \"indian\", \"indians\", \"freedom\", \"democracy\", \"nation\", \"world\",\n",
    "    \"environment\", \"oil\", \"jobs\", \"education\", \"employment\", \"security\",\n",
    "    \"terrorism\", \"pakistan\", \"china\", \"u.s\", \"america\", \"u.s.a\", \"i\", \"we\",\n",
    "    \"you\", \"our\", \"ours\", \"me\"\n",
    "]"
   ]
  },
  {
   "cell_type": "code",
   "execution_count": 11,
   "metadata": {
    "collapsed": true
   },
   "outputs": [],
   "source": [
    "#Word Count Function\n",
    "def get_word_time_trend(x, word):\n",
    "    text_string = re.sub('', '', x).lower().split()\n",
    "    c = 0\n",
    "    for w in text_string:\n",
    "        if (w == word):\n",
    "            c += 1\n",
    "    return c"
   ]
  },
  {
   "cell_type": "code",
   "execution_count": 12,
   "metadata": {
    "collapsed": true
   },
   "outputs": [],
   "source": [
    "#Can't forget to normalize\n",
    "def normalize(x, y):\n",
    "    return (1000 * x) / y"
   ]
  },
  {
   "cell_type": "code",
   "execution_count": 13,
   "metadata": {
    "collapsed": true
   },
   "outputs": [],
   "source": [
    "df = mms_df.copy()"
   ]
  },
  {
   "cell_type": "code",
   "execution_count": 14,
   "metadata": {
    "collapsed": true
   },
   "outputs": [],
   "source": [
    "for word in list_of_words:\n",
    "    df['t_' + word] = df.content.apply(lambda x: get_word_time_trend(x, word))"
   ]
  },
  {
   "cell_type": "code",
   "execution_count": 15,
   "metadata": {
    "collapsed": true
   },
   "outputs": [],
   "source": [
    "df2 = df[df.index.isnull() == False]"
   ]
  },
  {
   "cell_type": "code",
   "execution_count": 16,
   "metadata": {},
   "outputs": [
    {
     "name": "stderr",
     "output_type": "stream",
     "text": [
      "/usr/local/lib/python3.5/dist-packages/ipykernel_launcher.py:3: SettingWithCopyWarning: \n",
      "A value is trying to be set on a copy of a slice from a DataFrame.\n",
      "Try using .loc[row_indexer,col_indexer] = value instead\n",
      "\n",
      "See the caveats in the documentation: http://pandas.pydata.org/pandas-docs/stable/indexing.html#indexing-view-versus-copy\n",
      "  This is separate from the ipykernel package so we can avoid doing imports until\n"
     ]
    }
   ],
   "source": [
    "for word in list_of_words:\n",
    "    df2['n_' + word] = df2.apply(\n",
    "        lambda x: normalize(x['t_' + word], x['number_of_words']), axis=1)"
   ]
  },
  {
   "cell_type": "code",
   "execution_count": 17,
   "metadata": {},
   "outputs": [
    {
     "data": {
      "text/plain": [
       "<matplotlib.axes._subplots.AxesSubplot at 0x7f283106bdd8>"
      ]
     },
     "execution_count": 17,
     "metadata": {},
     "output_type": "execute_result"
    },
    {
     "data": {
      "image/png": "[encoded data removed]",
      "text/plain": [
       "<matplotlib.figure.Figure at 0x7f283109b860>"
      ]
     },
     "metadata": {},
     "output_type": "display_data"
    }
   ],
   "source": [
    "df2.filter(items=['n_terrorism']).resample('A').mean().plot()"
   ]
  },
  {
   "cell_type": "code",
   "execution_count": 18,
   "metadata": {},
   "outputs": [
    {
     "data": {
      "image/png": "[encoded data removed]",
      "text/plain": [
       "<matplotlib.figure.Figure at 0x7f2831021080>"
      ]
     },
     "metadata": {},
     "output_type": "display_data"
    }
   ],
   "source": [
    "df2.filter(regex = 'n_').resample('A').median().plot();\n",
    "plt.tight_layout()"
   ]
  },
  {
   "cell_type": "markdown",
   "metadata": {},
   "source": [
    "# Analyzing Speeches Themselves"
   ]
  },
  {
   "cell_type": "markdown",
   "metadata": {},
   "source": [
    "While a lot of MMS's speeches are in English, a few of his speeches were in Hindi. His successor has much more Hindi Speeches."
   ]
  },
  {
   "cell_type": "code",
   "execution_count": 19,
   "metadata": {
    "collapsed": true
   },
   "outputs": [],
   "source": [
    "mms_df['language'] = np.nan"
   ]
  },
  {
   "cell_type": "code",
   "execution_count": 20,
   "metadata": {
    "collapsed": true
   },
   "outputs": [],
   "source": [
    "def language_classifier(x):\n",
    "    return langid.classify(x['content'])\n"
   ]
  },
  {
   "cell_type": "code",
   "execution_count": 21,
   "metadata": {
    "collapsed": true
   },
   "outputs": [],
   "source": [
    "mms_df['language']=mms_df.content.apply(lambda x: langid.classify(x)[0])"
   ]
  },
  {
   "cell_type": "code",
   "execution_count": 22,
   "metadata": {
    "collapsed": true
   },
   "outputs": [],
   "source": [
    "mms_english = mms_df[mms_df['language'] == 'en']\n",
    "mms_hindi = mms_df[mms_df['language'] == 'hi']"
   ]
  },
  {
   "cell_type": "code",
   "execution_count": 23,
   "metadata": {
    "collapsed": true
   },
   "outputs": [],
   "source": [
    "mms_english = mms_english.reset_index(drop=True)\n",
    "mms_hindi = mms_hindi.reset_index(drop=True)"
   ]
  },
  {
   "cell_type": "code",
   "execution_count": 24,
   "metadata": {},
   "outputs": [
    {
     "name": "stderr",
     "output_type": "stream",
     "text": [
      "100%|██████████| 1329/1329 [00:00<00:00, 5531.77it/s]\n"
     ]
    }
   ],
   "source": [
    "mms_english_bag_of_words = []\n",
    "for x in tqdm(range(len(mms_english))):\n",
    "    if pd.isnull(mms_english['content'][x]):\n",
    "        pass\n",
    "    else:\n",
    "        words = mms_english['content'][x].split()\n",
    "        mms_english_bag_of_words.extend(words)"
   ]
  },
  {
   "cell_type": "code",
   "execution_count": 25,
   "metadata": {},
   "outputs": [
    {
     "data": {
      "text/plain": [
       "1556266"
      ]
     },
     "execution_count": 25,
     "metadata": {},
     "output_type": "execute_result"
    }
   ],
   "source": [
    "len(mms_english_bag_of_words)"
   ]
  },
  {
   "cell_type": "code",
   "execution_count": 26,
   "metadata": {},
   "outputs": [
    {
     "name": "stderr",
     "output_type": "stream",
     "text": [
      "100%|██████████| 1556266/1556266 [00:00<00:00, 1756847.03it/s]\n",
      "100%|██████████| 1556266/1556266 [00:04<00:00, 380973.96it/s]\n"
     ]
    }
   ],
   "source": [
    "import string\n",
    "mms_english_bag_of_words = [\n",
    "    element.lower() for element in tqdm(mms_english_bag_of_words)\n",
    "]\n",
    "mms_english_bag_of_words = [\n",
    "    ''.join(c for c in s if c not in string.punctuation)\n",
    "    for s in tqdm(mms_english_bag_of_words)\n",
    "]"
   ]
  },
  {
   "cell_type": "code",
   "execution_count": 27,
   "metadata": {
    "collapsed": true
   },
   "outputs": [],
   "source": [
    "mms_english_fdist = nltk.FreqDist(mms_english_bag_of_words)"
   ]
  },
  {
   "cell_type": "code",
   "execution_count": 28,
   "metadata": {},
   "outputs": [
    {
     "data": {
      "text/plain": [
       "28921"
      ]
     },
     "execution_count": 28,
     "metadata": {},
     "output_type": "execute_result"
    }
   ],
   "source": [
    "len(mms_english_fdist)"
   ]
  },
  {
   "cell_type": "code",
   "execution_count": 29,
   "metadata": {},
   "outputs": [
    {
     "data": {
      "text/plain": [
       "[('the', 94740),\n",
       " ('of', 68200),\n",
       " ('and', 56386),\n",
       " ('to', 52564),\n",
       " ('in', 40673),\n",
       " ('a', 28242),\n",
       " ('our', 24177),\n",
       " ('that', 21427),\n",
       " ('we', 21061),\n",
       " ('is', 20040),\n",
       " ('i', 17298),\n",
       " ('for', 16181),\n",
       " ('this', 15215),\n",
       " ('have', 14682),\n",
       " ('are', 10612),\n",
       " ('be', 10195),\n",
       " ('on', 9826),\n",
       " ('with', 9530),\n",
       " ('has', 9356),\n",
       " ('as', 9085),\n",
       " ('it', 9004),\n",
       " ('will', 8920),\n",
       " ('india', 7075),\n",
       " ('all', 6724),\n",
       " ('an', 6331),\n",
       " ('by', 5992),\n",
       " ('also', 5814),\n",
       " ('which', 5025),\n",
       " ('at', 4983),\n",
       " ('not', 4913),\n",
       " ('been', 4832),\n",
       " ('you', 4650),\n",
       " ('these', 4523),\n",
       " ('development', 4355),\n",
       " ('from', 4320),\n",
       " ('people', 4272),\n",
       " ('government', 4237),\n",
       " ('must', 4137),\n",
       " ('can', 4118),\n",
       " ('more', 3828),\n",
       " ('country', 3810),\n",
       " ('their', 3746),\n",
       " ('new', 3743),\n",
       " ('there', 3630),\n",
       " ('am', 3580),\n",
       " ('but', 3536),\n",
       " ('was', 3472),\n",
       " ('need', 3358),\n",
       " ('growth', 3246),\n",
       " ('world', 3219)]"
      ]
     },
     "execution_count": 29,
     "metadata": {},
     "output_type": "execute_result"
    }
   ],
   "source": [
    "mms_english_fdist.most_common(50)"
   ]
  },
  {
   "cell_type": "code",
   "execution_count": 30,
   "metadata": {},
   "outputs": [
    {
     "name": "stderr",
     "output_type": "stream",
     "text": [
      "100%|██████████| 1556266/1556266 [00:03<00:00, 408061.99it/s]\n"
     ]
    }
   ],
   "source": [
    "from nltk.corpus import stopwords\n",
    "stopwords = stopwords.words('english')\n",
    "new_mms_english_bag_of_words = [\n",
    "    w for w in tqdm(mms_english_bag_of_words) if w not in stopwords\n",
    "]"
   ]
  },
  {
   "cell_type": "code",
   "execution_count": 31,
   "metadata": {},
   "outputs": [
    {
     "data": {
      "text/plain": [
       "822405"
      ]
     },
     "execution_count": 31,
     "metadata": {},
     "output_type": "execute_result"
    }
   ],
   "source": [
    "len(new_mms_english_bag_of_words)"
   ]
  },
  {
   "cell_type": "code",
   "execution_count": 32,
   "metadata": {
    "collapsed": true
   },
   "outputs": [],
   "source": [
    "mms_fdist_new = nltk.FreqDist(new_mms_english_bag_of_words)"
   ]
  },
  {
   "cell_type": "code",
   "execution_count": 33,
   "metadata": {},
   "outputs": [
    {
     "data": {
      "text/plain": [
       "[('india', 7075),\n",
       " ('also', 5814),\n",
       " ('development', 4355),\n",
       " ('people', 4272),\n",
       " ('government', 4237),\n",
       " ('must', 4137),\n",
       " ('country', 3810),\n",
       " ('new', 3743),\n",
       " ('need', 3358),\n",
       " ('growth', 3246),\n",
       " ('world', 3219),\n",
       " ('us', 3199),\n",
       " ('would', 3175),\n",
       " ('economic', 3055),\n",
       " ('national', 3027),\n",
       " ('one', 2620),\n",
       " ('years', 2587),\n",
       " ('today', 2567),\n",
       " ('indian', 2560),\n",
       " ('many', 2515),\n",
       " ('work', 2442),\n",
       " ('great', 2317),\n",
       " ('countries', 2299),\n",
       " ('state', 2244),\n",
       " ('like', 2204),\n",
       " ('', 2147),\n",
       " ('important', 2080),\n",
       " ('global', 2066),\n",
       " ('public', 2056),\n",
       " ('security', 2038),\n",
       " ('economy', 1971),\n",
       " ('time', 1944),\n",
       " ('education', 1939),\n",
       " ('year', 1913),\n",
       " ('energy', 1898),\n",
       " ('sector', 1849),\n",
       " ('areas', 1733),\n",
       " ('social', 1677),\n",
       " ('states', 1663),\n",
       " ('therefore', 1635),\n",
       " ('cooperation', 1601),\n",
       " ('hope', 1599),\n",
       " ('well', 1578),\n",
       " ('make', 1556),\n",
       " ('rural', 1546),\n",
       " ('take', 1509),\n",
       " ('investment', 1500),\n",
       " ('ensure', 1482),\n",
       " ('two', 1480),\n",
       " ('society', 1445)]"
      ]
     },
     "execution_count": 33,
     "metadata": {},
     "output_type": "execute_result"
    }
   ],
   "source": [
    "mms_fdist_new.most_common(50)"
   ]
  },
  {
   "cell_type": "code",
   "execution_count": 34,
   "metadata": {
    "collapsed": true
   },
   "outputs": [],
   "source": [
    "from nltk.util import ngrams\n",
    "mms_english_bigrams = ngrams(new_mms_english_bag_of_words, 2)"
   ]
  },
  {
   "cell_type": "code",
   "execution_count": 35,
   "metadata": {
    "collapsed": true
   },
   "outputs": [],
   "source": [
    "mms_english_bigrams_fdist = nltk.FreqDist(mms_english_bigrams)"
   ]
  },
  {
   "cell_type": "code",
   "execution_count": 36,
   "metadata": {},
   "outputs": [
    {
     "data": {
      "text/plain": [
       "[(('would', 'like'), 846),\n",
       " (('prime', 'minister'), 801),\n",
       " (('state', 'governments'), 447),\n",
       " (('science', 'technology'), 409),\n",
       " (('climate', 'change'), 408),\n",
       " (('economic', 'growth'), 391),\n",
       " (('per', 'cent'), 378),\n",
       " (('two', 'countries'), 345),\n",
       " (('united', 'states'), 342),\n",
       " (('developing', 'countries'), 341),\n",
       " (('work', 'together'), 339),\n",
       " (('social', 'economic'), 339),\n",
       " (('look', 'forward'), 307),\n",
       " (('sections', 'society'), 293),\n",
       " (('last', 'year'), 288),\n",
       " (('jawaharlal', 'nehru'), 285),\n",
       " (('must', 'also'), 278),\n",
       " (('people', 'india'), 277),\n",
       " (('public', 'sector'), 268),\n",
       " (('central', 'government'), 267),\n",
       " (('private', 'sector'), 265),\n",
       " (('growth', 'rate'), 265),\n",
       " (('economic', 'development'), 264),\n",
       " (('mahatma', 'gandhi'), 261),\n",
       " (('health', 'care'), 252),\n",
       " (('energy', 'security'), 249),\n",
       " (('ladies', 'gentlemen'), 246),\n",
       " (('south', 'asia'), 245),\n",
       " (('chief', 'ministers'), 239),\n",
       " (('rural', 'areas'), 235),\n",
       " (('higher', 'education'), 234),\n",
       " (('sincerely', 'hope'), 233),\n",
       " (('national', 'rural'), 224),\n",
       " (('nuclear', 'energy'), 222),\n",
       " (('would', 'also'), 220),\n",
       " (('planning', 'commission'), 220),\n",
       " (('years', 'ago'), 208),\n",
       " (('also', 'need'), 208),\n",
       " (('five', 'year'), 206),\n",
       " (('men', 'women'), 205),\n",
       " (('food', 'security'), 200),\n",
       " (('united', 'nations'), 197),\n",
       " (('important', 'role'), 195),\n",
       " (('education', 'health'), 195),\n",
       " (('strategic', 'partnership'), 194),\n",
       " (('year', 'plan'), 191),\n",
       " (('government', 'committed'), 189),\n",
       " (('state', 'government'), 189),\n",
       " (('skill', 'development'), 187),\n",
       " (('government', 'india'), 186)]"
      ]
     },
     "execution_count": 36,
     "metadata": {},
     "output_type": "execute_result"
    }
   ],
   "source": [
    "mms_english_bigrams_fdist.most_common(50)"
   ]
  },
  {
   "cell_type": "markdown",
   "metadata": {},
   "source": [
    "# Categorizing Speeches"
   ]
  },
  {
   "cell_type": "code",
   "execution_count": 37,
   "metadata": {
    "collapsed": true
   },
   "outputs": [],
   "source": [
    "def simple_tokenizer(str_input):\n",
    "    words = re.sub(r\"[^A-Za-z0-9\\-]\", \" \", str_input).lower().split()\n",
    "    return words"
   ]
  },
  {
   "cell_type": "code",
   "execution_count": 38,
   "metadata": {
    "collapsed": true
   },
   "outputs": [],
   "source": [
    "#Vectorizing\n",
    "vectorizer = TfidfVectorizer(\n",
    "    use_idf=True, tokenizer=simple_tokenizer, stop_words='english')\n",
    "X = vectorizer.fit_transform(mms_english['content'])"
   ]
  },
  {
   "cell_type": "code",
   "execution_count": 39,
   "metadata": {},
   "outputs": [
    {
     "data": {
      "text/plain": [
       "KMeans(algorithm='auto', copy_x=True, init='k-means++', max_iter=300,\n",
       "    n_clusters=5, n_init=10, n_jobs=1, precompute_distances='auto',\n",
       "    random_state=None, tol=0.0001, verbose=0)"
      ]
     },
     "execution_count": 39,
     "metadata": {},
     "output_type": "execute_result"
    }
   ],
   "source": [
    "#5 is a good number of clusters\n",
    "number_of_clusters = 5\n",
    "km = KMeans(n_clusters=number_of_clusters)\n",
    "km.fit(X)"
   ]
  },
  {
   "cell_type": "code",
   "execution_count": 40,
   "metadata": {},
   "outputs": [
    {
     "name": "stdout",
     "output_type": "stream",
     "text": [
      "Cluster 0: energy nuclear india climate global\n",
      "Cluster 1: science research education scientific technology\n",
      "Cluster 2: india people s great indian\n",
      "Cluster 3: india cooperation president countries summit\n",
      "Cluster 4: government growth development need state\n"
     ]
    }
   ],
   "source": [
    "order_centroids = km.cluster_centers_.argsort()[:, ::-1]\n",
    "terms = vectorizer.get_feature_names()\n",
    "for i in range(number_of_clusters):\n",
    "    top_words = [terms[ind] for ind in order_centroids[i, :5]]\n",
    "    print(\"Cluster {}: {}\".format(i, ' '.join(top_words)))"
   ]
  },
  {
   "cell_type": "code",
   "execution_count": 41,
   "metadata": {},
   "outputs": [
    {
     "data": {
      "text/html": [
       "<div>\n",
       "<style>\n",
       "    .dataframe thead tr:only-child th {\n",
       "        text-align: right;\n",
       "    }\n",
       "\n",
       "    .dataframe thead th {\n",
       "        text-align: left;\n",
       "    }\n",
       "\n",
       "    .dataframe tbody tr th {\n",
       "        vertical-align: top;\n",
       "    }\n",
       "</style>\n",
       "<table border=\"1\" class=\"dataframe\">\n",
       "  <thead>\n",
       "    <tr style=\"text-align: right;\">\n",
       "      <th></th>\n",
       "      <th>text</th>\n",
       "      <th>category</th>\n",
       "    </tr>\n",
       "  </thead>\n",
       "  <tbody>\n",
       "    <tr>\n",
       "      <th>0</th>\n",
       "      <td>I am extremely happy to be here today to lay t...</td>\n",
       "      <td>4</td>\n",
       "    </tr>\n",
       "    <tr>\n",
       "      <th>1</th>\n",
       "      <td>\"It gives me great pleasure to be here to inau...</td>\n",
       "      <td>1</td>\n",
       "    </tr>\n",
       "    <tr>\n",
       "      <th>2</th>\n",
       "      <td>It is my pleasure to welcome you all on the oc...</td>\n",
       "      <td>0</td>\n",
       "    </tr>\n",
       "    <tr>\n",
       "      <th>3</th>\n",
       "      <td>\"There is someone who said, 'truth is learning...</td>\n",
       "      <td>4</td>\n",
       "    </tr>\n",
       "    <tr>\n",
       "      <th>4</th>\n",
       "      <td>President Musharraf and Prime Minister Dr. Ma...</td>\n",
       "      <td>3</td>\n",
       "    </tr>\n",
       "    <tr>\n",
       "      <th>5</th>\n",
       "      <td>SHRI SHIVA RATRI DESHI-KENDRA MAHA-SWAMIJIDr. ...</td>\n",
       "      <td>2</td>\n",
       "    </tr>\n",
       "    <tr>\n",
       "      <th>6</th>\n",
       "      <td>\\tMy fellow citizens,\\n\\tThere is genuine and ...</td>\n",
       "      <td>2</td>\n",
       "    </tr>\n",
       "    <tr>\n",
       "      <th>7</th>\n",
       "      <td>\"I am delighted to participate in this opening...</td>\n",
       "      <td>1</td>\n",
       "    </tr>\n",
       "    <tr>\n",
       "      <th>8</th>\n",
       "      <td>Ladies and Gentlemen,\\tThis is truly a special...</td>\n",
       "      <td>4</td>\n",
       "    </tr>\n",
       "    <tr>\n",
       "      <th>9</th>\n",
       "      <td>\"We have just concluded the First India-Africa...</td>\n",
       "      <td>3</td>\n",
       "    </tr>\n",
       "  </tbody>\n",
       "</table>\n",
       "</div>"
      ],
      "text/plain": [
       "                                                text  category\n",
       "0  I am extremely happy to be here today to lay t...         4\n",
       "1  \"It gives me great pleasure to be here to inau...         1\n",
       "2  It is my pleasure to welcome you all on the oc...         0\n",
       "3  \"There is someone who said, 'truth is learning...         4\n",
       "4   President Musharraf and Prime Minister Dr. Ma...         3\n",
       "5  SHRI SHIVA RATRI DESHI-KENDRA MAHA-SWAMIJIDr. ...         2\n",
       "6  \\tMy fellow citizens,\\n\\tThere is genuine and ...         2\n",
       "7  \"I am delighted to participate in this opening...         1\n",
       "8  Ladies and Gentlemen,\\tThis is truly a special...         4\n",
       "9  \"We have just concluded the First India-Africa...         3"
      ]
     },
     "execution_count": 41,
     "metadata": {},
     "output_type": "execute_result"
    }
   ],
   "source": [
    "results = pd.DataFrame()\n",
    "results['text'] = mms_english['content']\n",
    "results['category'] = km.labels_\n",
    "results.head(10)"
   ]
  },
  {
   "cell_type": "code",
   "execution_count": 42,
   "metadata": {},
   "outputs": [
    {
     "data": {
      "text/plain": [
       "4    470\n",
       "2    410\n",
       "3    306\n",
       "1     83\n",
       "0     60\n",
       "Name: category, dtype: int64"
      ]
     },
     "execution_count": 42,
     "metadata": {},
     "output_type": "execute_result"
    }
   ],
   "source": [
    "results['category'].value_counts()"
   ]
  },
  {
   "cell_type": "code",
   "execution_count": null,
   "metadata": {
    "collapsed": true
   },
   "outputs": [],
   "source": []
  }
 ],
 "metadata": {
  "kernelspec": {
   "display_name": "Python 3",
   "language": "python",
   "name": "python3"
  },
  "language_info": {
   "codemirror_mode": {
    "name": "ipython",
    "version": 3
   },
   "file_extension": ".py",
   "mimetype": "text/x-python",
   "name": "python",
   "nbconvert_exporter": "python",
   "pygments_lexer": "ipython3",
   "version": "3.5.2"
  },
  "varInspector": {
   "cols": {
    "lenName": 16,
    "lenType": 16,
    "lenVar": 40
   },
   "kernels_config": {
    "python": {
     "delete_cmd_postfix": "",
     "delete_cmd_prefix": "del ",
     "library": "var_list.py",
     "varRefreshCmd": "print(var_dic_list())"
    },
    "r": {
     "delete_cmd_postfix": ") ",
     "delete_cmd_prefix": "rm(",
     "library": "var_list.r",
     "varRefreshCmd": "cat(var_dic_list()) "
    }
   },
   "types_to_exclude": [
    "module",
    "function",
    "builtin_function_or_method",
    "instance",
    "_Feature"
   ],
   "window_display": false
  }
 },
 "nbformat": 4,
 "nbformat_minor": 2
}
